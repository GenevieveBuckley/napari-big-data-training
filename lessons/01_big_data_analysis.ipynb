{
 "cells": [
  {
   "cell_type": "markdown",
   "id": "subject-consideration",
   "metadata": {},
   "source": [
    "# Big Data Image Analysis"
   ]
  },
  {
   "cell_type": "markdown",
   "id": "2b86f6ce-bcaf-4bee-a000-3f720dbcce01",
   "metadata": {},
   "source": [
    "## Demo data\n",
    "\n",
    "This tutorial will use demonstration dataset BBBC039, from the Broad Bioimage Benchmark Collection: https://bbbc.broadinstitute.org/BBBC039\n",
    "\n",
    "Please download and unzip the data. You can download the data directly as a zip file with this link (77.9 MB): https://data.broadinstitute.org/bbbc/BBBC039/images.zip\n",
    "\n",
    "\n",
    "Reference:\n",
    "> BBBC039 Caicedo et al. 2018, available from the Broad Bioimage Benchmark Collection Ljosa et al., Nature Methods, 2012.\n",
    "> https://bbbc.broadinstitute.org/BBBC039"
   ]
  },
  {
   "cell_type": "markdown",
   "id": "a566ea35-59cb-4f34-8a1a-4f5af94b67a9",
   "metadata": {},
   "source": [
    "## Start the Dask dashboard\n",
    "\n",
    "This is optional, but the Dask dashboard can be an extremely useful tool when running dask computations. You can learn more about the dask dashboard with:\n",
    "\n",
    "* This introduction to the dask dashboard (20 minute video): https://www.youtube.com/watch?v=N_GqzcuGLCY\n",
    "* This introduction to the jupyterlab extension (5 minute video): https://www.youtube.com/watch?v=EX_voquHdk0\n"
   ]
  },
  {
   "cell_type": "code",
   "execution_count": null,
   "id": "8d10cefd-0bf0-45b4-9052-7f6392298d5f",
   "metadata": {},
   "outputs": [],
   "source": [
    "from dask.distributed import Client\n",
    "\n",
    "client = Client()\n",
    "client"
   ]
  },
  {
   "cell_type": "markdown",
   "id": "955a4189-324e-4db1-b70e-4ba447db9f15",
   "metadata": {},
   "source": [
    "## The dask-image library\n",
    "\n",
    "There is a `dask-image` library available.\n",
    "\n",
    "It contains a number of specialized image processing functions,\n",
    "including image filters, fourier transforms, morphological operations,\n",
    "and measurement functions.\n",
    "\n",
    "* Documentation pages: http://image.dask.org/en/latest/\n",
    "* GitHub repository: https://github.com/dask/dask-image\n"
   ]
  },
  {
   "cell_type": "code",
   "execution_count": 1,
   "id": "e90b433e-75e9-4ca7-b261-c06aab5548be",
   "metadata": {},
   "outputs": [],
   "source": [
    "import dask_image"
   ]
  },
  {
   "cell_type": "markdown",
   "id": "928005c2-c80e-42ef-8a9a-8fecfacbd74d",
   "metadata": {},
   "source": [
    "### The napari image viewer\n",
    "\n",
    "`napari` is a python based image viewer.\n",
    "It natively handles dask arrays, so is an excellent choice for lazily loading large image data..\n",
    "\n",
    "* Documentation pages: https://napari.org/\n",
    "* GitHub repository: https://github.com/napari/napari/"
   ]
  },
  {
   "cell_type": "code",
   "execution_count": null,
   "id": "90e70287-c448-4049-bb66-8ff05204e0bf",
   "metadata": {},
   "outputs": [],
   "source": [
    "import napari\n",
    "\n",
    "viewer = napari.Viewer()"
   ]
  },
  {
   "cell_type": "markdown",
   "id": "6b020c1c-6ee9-49ba-bd9f-f2c2e7b11eb9",
   "metadata": {},
   "source": [
    "It is possible to record screenshots of the current state of the napari viewer using the `nbscreenshot` function. This can be useful if you need to share your notebooks with collaborators."
   ]
  },
  {
   "cell_type": "code",
   "execution_count": null,
   "id": "d859b168-857f-49ca-8a63-3c78967b739f",
   "metadata": {},
   "outputs": [],
   "source": [
    "from napari.utils import nbscreenshot\n",
    "\n",
    "nbscreenshot(viewer)"
   ]
  },
  {
   "cell_type": "markdown",
   "id": "e14d6e41-5c9b-47d3-8ebe-c96e580f8c1c",
   "metadata": {},
   "source": [
    "## Image segmentation pipeline\n",
    "### Step 1. Load image data\n",
    "\n",
    "\n"
   ]
  },
  {
   "cell_type": "markdown",
   "id": "3ef08f11-b13b-4a83-a168-6f4ac752b7a3",
   "metadata": {},
   "source": [
    "### Exercise\n",
    "\n",
    "Uisng the `dask-image` [imread function](http://image.dask.org/en/latest/dask_image.imread.html#dask_image.imread.imread), load all the TIFF images from our demo dataset into a single Dask array.\n",
    "\n",
    "Explore the `shape`, `chunksize` and `chunks` attributes of the dask array. What does a single dask chunk correspond with?\n"
   ]
  },
  {
   "cell_type": "code",
   "execution_count": null,
   "id": "e109ff1b-52ed-455c-8ab2-496f85db7985",
   "metadata": {},
   "outputs": [],
   "source": [
    "# Solution\n",
    "from dask_image.imread import imread\n",
    "\n",
    "# image = ... FIXME!"
   ]
  },
  {
   "cell_type": "markdown",
   "id": "d49fe044-5e59-44b3-80e3-98bcab9cf5ca",
   "metadata": {},
   "source": [
    "### Exercise\n",
    "\n",
    "Display the image data in the napari image viewer. (Hint: you can check the napari documentation page here if you're stuck https://napari.org/tutorials/fundamentals/viewer.html).\n",
    "\n",
    "Drag the napari sliders around and watch the task stream plot on the dask dashboard. What happens?\n",
    "\n",
    "Can you adjust the contrast limits to better display the images?"
   ]
  },
  {
   "cell_type": "code",
   "execution_count": null,
   "id": "c0a2f3b6-6fc2-420d-a7bf-dac0dcd22172",
   "metadata": {},
   "outputs": [],
   "source": [
    "# Solution"
   ]
  },
  {
   "cell_type": "markdown",
   "id": "3f1b8e2a-b6c2-4db4-ae9c-12312103fe74",
   "metadata": {},
   "source": [
    "### Step 2. Filtering images\n",
    "\n",
    "Denoising images with a small blur can improve segmentation edges later in the analysis pipeline.\n",
    "\n",
    "Here we'll use the `gaussian_filter` fucntion from `dask-image` to do this.\n",
    "\n",
    "Note that the value we have chose for sigma will only blur data within each image frame."
   ]
  },
  {
   "cell_type": "code",
   "execution_count": null,
   "id": "43524497-8861-4397-993c-86686acdef24",
   "metadata": {},
   "outputs": [],
   "source": [
    "from dask_image import ndfilters\n",
    "\n",
    "smoothed = ndfilters.gaussian_filter(images, sigma=[0, 1, 1])"
   ]
  },
  {
   "cell_type": "code",
   "execution_count": null,
   "id": "bcaa4802-a458-4135-9182-0a3fa96e45eb",
   "metadata": {},
   "outputs": [],
   "source": [
    "# Display the result in napari\n",
    "viewer.add_image(smoothed)"
   ]
  },
  {
   "cell_type": "markdown",
   "id": "4f29bd54-b862-44c4-bc07-80bdd4285198",
   "metadata": {},
   "source": [
    "### Step 3. Segmenting objects\n",
    "\n",
    "We need to segment the cell nuclei from the background.\n",
    "Demo: Poor segmentation using a single threshold value"
   ]
  },
  {
   "cell_type": "code",
   "execution_count": null,
   "id": "4a7c4a3a-03d9-41df-a925-22cf61a3840f",
   "metadata": {},
   "outputs": [],
   "source": [
    "absolute_threshold = smoothed > 160"
   ]
  },
  {
   "cell_type": "code",
   "execution_count": null,
   "id": "ea6ca0d5-3e87-4885-8f5e-ee04dfca06aa",
   "metadata": {},
   "outputs": [],
   "source": [
    "viewer.add_image(absolute_threshold)"
   ]
  },
  {
   "cell_type": "markdown",
   "id": "046ff8ac-3d1c-4e19-bfaa-f3ede67ccc3a",
   "metadata": {},
   "source": [
    "### Exercise\n",
    "\n",
    "Use local thresholding to make a better segmentation. Use a local region size equal to a single image frame.\n"
   ]
  },
  {
   "cell_type": "code",
   "execution_count": null,
   "id": "e69672ee-e769-43b7-a972-24a2fa5e5486",
   "metadata": {},
   "outputs": [],
   "source": [
    "# Solution"
   ]
  },
  {
   "cell_type": "markdown",
   "id": "95aec700-6da5-4867-8c33-b69241ddfe0f",
   "metadata": {},
   "source": [
    "### Tip\n",
    "\n",
    "If you have many layers loaded into napari, you can improve responsiveness by toggling the visibility OFF for any layers you don't need to see.\n",
    "\n",
    "Napari lazily loads and/or computes only the visible data if given a dask array. However, given enough layers even lazy computation can sometimes slow things down, so we can make sure to only display the layers we need to see."
   ]
  },
  {
   "cell_type": "markdown",
   "id": "62168631-5d15-4fd7-8220-c0f78b3260cc",
   "metadata": {},
   "source": [
    "### Step 4. Morphological operations\n",
    "\n",
    "Morphological operations are operations that change the shape of a binary image.\n",
    "\n",
    "There is an excellent detailed explanation of this [here on the OpenCV website](https://docs.opencv.org/3.0-beta/doc/py_tutorials/py_imgproc/py_morphological_ops/py_morphological_ops.html). Below are three images from the webpage, describing common morphological operations.\n",
    "\n",
    "#### Erosion\n",
    "\n",
    "![Erosion morphological operation](resources/erosion.png)\n",
    "\n",
    "#### Dilation\n",
    "\n",
    "![Dilation morphological operation](resources/dilation.png)\n",
    "\n",
    "#### Opening\n",
    "A morphological opening operation is an erosion, followed by a dilation.\n",
    "\n",
    "![Dilation morphological operation](resources/dilation.png)\n",
    "\n",
    "Conversely, there is also a morphological operation called \"closing\", which is a dilation followed by an erosion.\n",
    "\n",
    "The opening morphological operation is particularly useful for image analysis if we look at how easily it has removed the bright specks of noise in our image backgroud, while at the same time leaving the object of interest virtually unchanged.\n",
    "\n",
    "Let's try a morphological opening on our own data...\n"
   ]
  },
  {
   "cell_type": "code",
   "execution_count": null,
   "id": "2bb5fe21-7db7-457f-ba29-e6e40f935d70",
   "metadata": {},
   "outputs": [],
   "source": [
    "from dask_image import ndmorph\n",
    "import numpy as np\n",
    "\n",
    "structuring_element = np.array([\n",
    "    [[0, 0, 0], [0, 0, 0], [0, 0, 0]],\n",
    "    [[0, 1, 0], [1, 1, 1], [0, 1, 0]],\n",
    "    [[0, 0, 0], [0, 0, 0], [0, 0, 0]]])\n",
    "binary_images = ndmorph.binary_opening(threshold_images, structure=structuring_element) "
   ]
  },
  {
   "cell_type": "markdown",
   "id": "1d168bab-eb40-4d53-9629-ab8fd91f2130",
   "metadata": {},
   "source": [
    "### Step 5. Measuring objects\n",
    "\n",
    "Finally we create a label image, then measure some properties about the objects in that image.\n",
    "\n",
    "Each image has many individual nuclei, so for the sake of time we'll measure a small subset of the data.\n"
   ]
  },
  {
   "cell_type": "code",
   "execution_count": null,
   "id": "0354c153-2977-4979-83ad-c759f5977d95",
   "metadata": {},
   "outputs": [],
   "source": [
    "from dask_image import ndmeasure\n",
    "\n",
    "# Create labelled mask\n",
    "label_images, num_features = ndmeasure.label(binary_images[:3], structuring_element)\n",
    "index = np.arange(num_features - 1) + 1  # [1, 2, 3, ...num_features]\n",
    "print(\"Number of nuclei:\", num_features.compute())"
   ]
  },
  {
   "cell_type": "code",
   "execution_count": null,
   "id": "c6bd790a-d4a4-47b0-a918-7fd96f4b5acb",
   "metadata": {},
   "outputs": [],
   "source": [
    "# Let's look at the labels\n",
    "viewer.add_labels(label_images)"
   ]
  },
  {
   "cell_type": "code",
   "execution_count": null,
   "id": "e4117f15-0d0c-4b0d-b3d7-49f681311db6",
   "metadata": {},
   "outputs": [],
   "source": [
    "# Take a screenshot with napari\n",
    "viewer.dims.set_point(0, 0)  # move slider back to first image frame\n",
    "nbscreenshot(viewer)"
   ]
  },
  {
   "cell_type": "code",
   "execution_count": null,
   "id": "463165ec-b911-4685-893c-997b43096b74",
   "metadata": {},
   "outputs": [],
   "source": [
    "# Measure objects in images\n",
    "area = ndmeasure.area(images[:3], label_images, index)\n",
    "mean_intensity = ndmeasure.mean(images[:3], label_images, index)"
   ]
  },
  {
   "cell_type": "code",
   "execution_count": null,
   "id": "f4e3fbf3-a11f-4651-92dd-d0685bc3ce0f",
   "metadata": {},
   "outputs": [],
   "source": [
    "# Run computation and plot results\n",
    "import matplotlib.pyplot as plt\n",
    "\n",
    "plt.scatter(area, mean_intensity, alpha=0.5)\n",
    "plt.gca().update(dict(title=\"Area vs mean intensity\", xlabel='Area (pixels)', ylabel='Mean intensity'))\n",
    "plt.show()"
   ]
  },
  {
   "cell_type": "markdown",
   "id": "a8f8a957-98f6-4a04-bdb9-ed4a97dd7994",
   "metadata": {},
   "source": [
    "### Custom functions with Dask\n",
    "\n",
    "What if we want to do something that isn't a function available in `dask-image`?\n",
    "\n",
    "You can create custom functions in dask with the `map_blocks` and `map_overlsp` functions:\n",
    "\n",
    "* [map_bocks](https://docs.dask.org/en/latest/generated/dask.array.map_blocks.html)\n",
    "* [map_overlap](https://docs.dask.org/en/latest/generated/dask.array.map_overlap.html)\n"
   ]
  },
  {
   "cell_type": "markdown",
   "id": "f8fe7636-5065-4cdd-bfad-a5193ad30d6d",
   "metadata": {},
   "source": [
    "### Challenge\n",
    "\n",
    "Choose a function from the [scikit-image](https://scikit-image.org/) library, and apply that to your dask array data using `map_blocks` or `map_overlap`.\n",
    "\n",
    "Some ideas:\n",
    "* Compare different filters or threshold methods found in the scikit-image [filters](https://scikit-image.org/docs/stable/api/skimage.filters.html) moculde.\n",
    "* Try blob detection using methods from the scikit-image [feature](https://scikit-image.org/docs/stable/api/skimage.feature.html) module. (Warning: this can be quite resource intensive)\n",
    "* Load a sinlge TIFF image into a dask array with four chunks (in quarters). Now what happens with your custom function when you adjust the overlap number of pixels? Can you spot edge artifacts using an overlap of zero, or with `map_blocks`?\n"
   ]
  },
  {
   "cell_type": "code",
   "execution_count": null,
   "id": "2e70054b-6eaf-483e-a989-ace644c50713",
   "metadata": {},
   "outputs": [],
   "source": [
    "# Solution"
   ]
  },
  {
   "cell_type": "code",
   "execution_count": null,
   "id": "black-estonia",
   "metadata": {},
   "outputs": [],
   "source": []
  }
 ],
 "metadata": {
  "kernelspec": {
   "display_name": "Python 3 (ipykernel)",
   "language": "python",
   "name": "python3"
  },
  "language_info": {
   "codemirror_mode": {
    "name": "ipython",
    "version": 3
   },
   "file_extension": ".py",
   "mimetype": "text/x-python",
   "name": "python",
   "nbconvert_exporter": "python",
   "pygments_lexer": "ipython3",
   "version": "3.9.6"
  }
 },
 "nbformat": 4,
 "nbformat_minor": 5
}
