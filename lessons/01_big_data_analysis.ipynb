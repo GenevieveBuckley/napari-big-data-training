{
 "cells": [
  {
   "cell_type": "markdown",
   "id": "subject-consideration",
   "metadata": {},
   "source": [
    "# Big Data Image Analysis"
   ]
  },
  {
   "cell_type": "markdown",
   "id": "unknown-husband",
   "metadata": {},
   "source": []
  },
  {
   "cell_type": "markdown",
   "id": "acceptable-medication",
   "metadata": {},
   "source": [
    "## zarrpaint\n",
    "### Annotating directly into zarr arrays\n",
    "\n",
    "TODO\n",
    "\n",
    "zarrpaint - https://github.com/jni/zarpaint\n",
    "\n",
    "Abigail McGovern & Juan Nunez-Iglesias"
   ]
  },
  {
   "cell_type": "markdown",
   "id": "fatty-patient",
   "metadata": {},
   "source": []
  },
  {
   "cell_type": "markdown",
   "id": "human-union",
   "metadata": {},
   "source": [
    "## dask-image segmentation pipeline"
   ]
  },
  {
   "cell_type": "markdown",
   "id": "committed-allowance",
   "metadata": {},
   "source": [
    "TODO\n",
    "\n",
    "segmentation pipeline example"
   ]
  },
  {
   "cell_type": "markdown",
   "id": "appreciated-duplicate",
   "metadata": {},
   "source": [
    "### Custom functionality"
   ]
  },
  {
   "cell_type": "markdown",
   "id": "occasional-nepal",
   "metadata": {},
   "source": [
    "#### Exercise: write your own custom function for Dask\n",
    "\n",
    "how to write your own functions to run custom functions with dask\n",
    "\n",
    "Dask best practices\n",
    "\n",
    "link to docs in napari\n",
    "\n",
    "link to docs in dask array"
   ]
  },
  {
   "cell_type": "code",
   "execution_count": null,
   "id": "black-estonia",
   "metadata": {},
   "outputs": [],
   "source": []
  }
 ],
 "metadata": {
  "kernelspec": {
   "display_name": "Python 3",
   "language": "python",
   "name": "python3"
  },
  "language_info": {
   "codemirror_mode": {
    "name": "ipython",
    "version": 3
   },
   "file_extension": ".py",
   "mimetype": "text/x-python",
   "name": "python",
   "nbconvert_exporter": "python",
   "pygments_lexer": "ipython3",
   "version": "3.8.6"
  }
 },
 "nbformat": 4,
 "nbformat_minor": 5
}
